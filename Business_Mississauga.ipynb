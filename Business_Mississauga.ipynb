{
 "cells": [
  {
   "attachments": {},
   "cell_type": "markdown",
   "metadata": {},
   "source": [
    "### EDA For \"2022 Business Directory For Mississauga, Canada\""
   ]
  },
  {
   "attachments": {},
   "cell_type": "markdown",
   "metadata": {},
   "source": [
    "#### EDA stands for Exploratory Data Analysis                        \n",
    "It is an approach to analyzing and understanding data by summarizing its main characteristics and identifying patterns and relationships between variables.\n",
    "\n",
    "In summary, EDA is a crucial step in the data analysis process, as it helps to ensure that the data is clean, complete, and appropriate for the analysis, and helps to inform subsequent data modeling and analysis."
   ]
  },
  {
   "attachments": {},
   "cell_type": "markdown",
   "metadata": {},
   "source": [
    "### Dataset : 2022 Mississauga, Canada Business Directory\n",
    "Summary : The Mississauga Business Directory shows the geographic location of the businesses within Mississauga.   \n",
    "It lists only the businesses that agreed to be included in the Business Directory."
   ]
  },
  {
   "attachments": {},
   "cell_type": "markdown",
   "metadata": {},
   "source": [
    "### Dataset Statistics\n",
    "\n",
    "Number of variables\t   : 24      \n",
    "Number of observations\t: 15162            \n",
    "Missing cells\t       : 622                   \n",
    "Missing cells (%)\t   : 0.2%                    \n",
    "Duplicate rows\t       : 0                              "
   ]
  },
  {
   "attachments": {},
   "cell_type": "markdown",
   "metadata": {},
   "source": [
    "#### First We Will Install The Pandas Library"
   ]
  },
  {
   "attachments": {},
   "cell_type": "markdown",
   "metadata": {},
   "source": [
    "`pip install ydata-profiling`\n",
    "\n",
    "Or If You Have Python3: `pip3 install ydata-profiling`"
   ]
  },
  {
   "attachments": {},
   "cell_type": "markdown",
   "metadata": {},
   "source": [
    "##### Then We Will Import The Pandas Library"
   ]
  },
  {
   "cell_type": "code",
   "execution_count": 2,
   "metadata": {},
   "outputs": [],
   "source": [
    "import pandas as pd\n",
    "from ydata_profiling import ProfileReport"
   ]
  },
  {
   "attachments": {},
   "cell_type": "markdown",
   "metadata": {},
   "source": [
    "#### Import The Data From Your Desired Dataset"
   ]
  },
  {
   "cell_type": "code",
   "execution_count": 3,
   "metadata": {},
   "outputs": [
    {
     "data": {
      "application/vnd.jupyter.widget-view+json": {
       "model_id": "97122ed52908481abc6b8f84f2bbbbee",
       "version_major": 2,
       "version_minor": 0
      },
      "text/plain": [
       "Summarize dataset:   0%|          | 0/5 [00:00<?, ?it/s]"
      ]
     },
     "metadata": {},
     "output_type": "display_data"
    },
    {
     "data": {
      "application/vnd.jupyter.widget-view+json": {
       "model_id": "ccc479429bea4bb69343417f67119ebe",
       "version_major": 2,
       "version_minor": 0
      },
      "text/plain": [
       "Generate report structure:   0%|          | 0/1 [00:00<?, ?it/s]"
      ]
     },
     "metadata": {},
     "output_type": "display_data"
    },
    {
     "data": {
      "application/vnd.jupyter.widget-view+json": {
       "model_id": "bb90de55aa094e35bd08368d5fddcea4",
       "version_major": 2,
       "version_minor": 0
      },
      "text/plain": [
       "Render HTML:   0%|          | 0/1 [00:00<?, ?it/s]"
      ]
     },
     "metadata": {},
     "output_type": "display_data"
    },
    {
     "data": {
      "application/vnd.jupyter.widget-view+json": {
       "model_id": "15901560f6d147928510367735861193",
       "version_major": 2,
       "version_minor": 0
      },
      "text/plain": [
       "Export report to file:   0%|          | 0/1 [00:00<?, ?it/s]"
      ]
     },
     "metadata": {},
     "output_type": "display_data"
    }
   ],
   "source": [
    "df = pd.read_csv('2022_Mississauga_Business_Directory.csv')\n",
    "profile = ProfileReport(df, title=\"Mississauga Canada Dataset\")\n",
    "profile.to_file(\"Mississauga Canada Dataset.html\")"
   ]
  },
  {
   "attachments": {},
   "cell_type": "markdown",
   "metadata": {},
   "source": [
    "This Dataset Is Taken From The Official Canadian Government Website For The Business Directory In The City Of Mississauga\n",
    "\n",
    "Year: 2022\n",
    "\n",
    "Source: [Click Here](https://data.mississauga.ca/datasets/9bcc08c0b51a4023b9257a01fb25139f) "
   ]
  }
 ],
 "metadata": {
  "kernelspec": {
   "display_name": "Python 3",
   "language": "python",
   "name": "python3"
  },
  "language_info": {
   "codemirror_mode": {
    "name": "ipython",
    "version": 3
   },
   "file_extension": ".py",
   "mimetype": "text/x-python",
   "name": "python",
   "nbconvert_exporter": "python",
   "pygments_lexer": "ipython3",
   "version": "3.11.3"
  },
  "orig_nbformat": 4
 },
 "nbformat": 4,
 "nbformat_minor": 2
}
